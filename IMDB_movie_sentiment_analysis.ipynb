{
  "nbformat": 4,
  "nbformat_minor": 0,
  "metadata": {
    "colab": {
      "name": "IMDB_movie_sentiment_analysis.ipynb",
      "provenance": [],
      "collapsed_sections": [],
      "toc_visible": true
    },
    "kernelspec": {
      "name": "python3",
      "display_name": "Python 3"
    }
  },
  "cells": [
    {
      "cell_type": "markdown",
      "metadata": {
        "id": "4ZCop-5owmC6",
        "colab_type": "text"
      },
      "source": [
        "# Importing relevant libraries"
      ]
    },
    {
      "cell_type": "code",
      "metadata": {
        "id": "6gA8UDg7qoJJ",
        "colab_type": "code",
        "colab": {}
      },
      "source": [
        "import pandas as pd\n",
        "import numpy as np\n",
        "import matplotlib.pyplot as plt\n",
        "import os, re\n",
        "import nltk\n",
        "from nltk.tokenize import word_tokenize\n",
        "from nltk.corpus import stopwords\n",
        "from nltk.tag import pos_tag\n",
        "from nltk.stem import WordNetLemmatizer\n",
        "from nltk import FreqDist"
      ],
      "execution_count": 0,
      "outputs": []
    },
    {
      "cell_type": "markdown",
      "metadata": {
        "id": "nvHOEEYcwlTU",
        "colab_type": "text"
      },
      "source": [
        "# Importing data from Google Drive"
      ]
    },
    {
      "cell_type": "code",
      "metadata": {
        "id": "Dbl5upG40iyk",
        "colab_type": "code",
        "outputId": "90c0e9f6-68ff-464c-ecd5-c029e55e69bc",
        "colab": {
          "base_uri": "https://localhost:8080/",
          "height": 54
        }
      },
      "source": [
        "from google.colab import drive\n",
        "drive.mount('/content/drive')"
      ],
      "execution_count": 22,
      "outputs": [
        {
          "output_type": "stream",
          "text": [
            "Drive already mounted at /content/drive; to attempt to forcibly remount, call drive.mount(\"/content/drive\", force_remount=True).\n"
          ],
          "name": "stdout"
        }
      ]
    },
    {
      "cell_type": "code",
      "metadata": {
        "id": "SyDRW2Lr0jrQ",
        "colab_type": "code",
        "colab": {}
      },
      "source": [
        "train_reviews = []\n",
        "for line in open('/content/drive/My Drive/movie_data/full_train.txt', 'r', encoding='utf-8'):\n",
        "  train_reviews.append(line.strip())"
      ],
      "execution_count": 0,
      "outputs": []
    },
    {
      "cell_type": "code",
      "metadata": {
        "id": "lo7Q3z5O187D",
        "colab_type": "code",
        "colab": {}
      },
      "source": [
        "test_reviews = []\n",
        "for line in open('/content/drive/My Drive/movie_data/full_test.txt', 'r', encoding='utf-8'):\n",
        "  test_reviews.append(line.strip())"
      ],
      "execution_count": 0,
      "outputs": []
    },
    {
      "cell_type": "markdown",
      "metadata": {
        "id": "rvUBjAQf4ouS",
        "colab_type": "text"
      },
      "source": [
        "# Cleaning and Preprocessing"
      ]
    },
    {
      "cell_type": "markdown",
      "metadata": {
        "id": "GS5dh7ZhTQnG",
        "colab_type": "text"
      },
      "source": [
        "### Remove punctuations, HTML tags, etc."
      ]
    },
    {
      "cell_type": "code",
      "metadata": {
        "id": "kXSF7oVKTRBK",
        "colab_type": "code",
        "colab": {}
      },
      "source": [
        "REPLACE_NO_SPACE = re.compile(\"[.;:!\\'?,\\\"()\\[\\]]\")\n",
        "REPLACE_WITH_SPACE = re.compile(\"(<br\\s*/><br\\s*/>)|(\\-)|(\\/)\")\n",
        "\n",
        "def preprocess_reviews(reviews):\n",
        "    reviews = [REPLACE_NO_SPACE.sub(\"\", line.lower()) for line in reviews]\n",
        "    reviews = [REPLACE_WITH_SPACE.sub(\" \", line) for line in reviews]\n",
        "    \n",
        "    return reviews\n",
        "\n",
        "train_reviews_clean = preprocess_reviews(train_reviews)\n",
        "test_reviews_clean = preprocess_reviews(test_reviews)"
      ],
      "execution_count": 0,
      "outputs": []
    },
    {
      "cell_type": "markdown",
      "metadata": {
        "id": "RehQqvqF58Qn",
        "colab_type": "text"
      },
      "source": [
        "### Tokenizing the data"
      ]
    },
    {
      "cell_type": "code",
      "metadata": {
        "id": "AkVx2Ms_4JXG",
        "colab_type": "code",
        "outputId": "df0a7c58-87e8-4f8a-b6e6-29d1bb55dd03",
        "colab": {
          "base_uri": "https://localhost:8080/",
          "height": 51
        }
      },
      "source": [
        "nltk.download('punkt')\n",
        "\n",
        "train_reviews_clean_tokens = []\n",
        "for review in train_reviews_clean:\n",
        "  train_reviews_clean_tokens.append(word_tokenize(review))\n",
        "\n",
        "test_reviews_clean_tokens = []\n",
        "for review in test_reviews_clean:\n",
        "  test_reviews_clean_tokens.append(word_tokenize(review))"
      ],
      "execution_count": 26,
      "outputs": [
        {
          "output_type": "stream",
          "text": [
            "[nltk_data] Downloading package punkt to /root/nltk_data...\n",
            "[nltk_data]   Package punkt is already up-to-date!\n"
          ],
          "name": "stdout"
        }
      ]
    },
    {
      "cell_type": "markdown",
      "metadata": {
        "id": "PcohblCqyTwN",
        "colab_type": "text"
      },
      "source": [
        "## Removing stopwords"
      ]
    },
    {
      "cell_type": "code",
      "metadata": {
        "id": "ZDk7pv4cNKg_",
        "colab_type": "code",
        "colab": {}
      },
      "source": [
        "def remove_noise(review_tokens, stop_words = ()):\n",
        "    return [token for token in review_tokens if token not in stop_words]"
      ],
      "execution_count": 0,
      "outputs": []
    },
    {
      "cell_type": "code",
      "metadata": {
        "id": "l1pAWEXTPSa5",
        "colab_type": "code",
        "outputId": "f95f451b-ebef-498b-acdd-5940797a79ec",
        "colab": {
          "base_uri": "https://localhost:8080/",
          "height": 51
        }
      },
      "source": [
        "nltk.download('stopwords')\n",
        "stop_words = stopwords.words('english')\n",
        "\n",
        "cleaned_train_reviews = []\n",
        "cleaned_test_reviews = []\n",
        "\n",
        "for tokens in train_reviews_clean_tokens:\n",
        "  cleaned_train_reviews.append(remove_noise(tokens, stop_words))\n",
        "\n",
        "for tokens in test_reviews_clean_tokens:\n",
        "  cleaned_test_reviews.append(remove_noise(tokens, stop_words))"
      ],
      "execution_count": 28,
      "outputs": [
        {
          "output_type": "stream",
          "text": [
            "[nltk_data] Downloading package stopwords to /root/nltk_data...\n",
            "[nltk_data]   Package stopwords is already up-to-date!\n"
          ],
          "name": "stdout"
        }
      ]
    },
    {
      "cell_type": "markdown",
      "metadata": {
        "id": "hBoG439hytjK",
        "colab_type": "text"
      },
      "source": [
        "## Normalizing the data - Lemmatization"
      ]
    },
    {
      "cell_type": "code",
      "metadata": {
        "id": "yhVXO838yzBr",
        "colab_type": "code",
        "colab": {}
      },
      "source": [
        "def lemmatizeReview(review):\n",
        "  lemmatizer = WordNetLemmatizer()\n",
        "  lemmatizedReviews = []\n",
        "  for token, tag in pos_tag(review):\n",
        "    if tag.startswith('NN'):\n",
        "      pos = 'n'\n",
        "    elif tag.startswith('VB'):\n",
        "      pos = 'v'\n",
        "    else:\n",
        "      pos = 'a'\n",
        "    token = lemmatizer.lemmatize(token, pos)\n",
        "    lemmatizedReviews.append(token.lower())\n",
        "  return lemmatizedReviews"
      ],
      "execution_count": 0,
      "outputs": []
    },
    {
      "cell_type": "code",
      "metadata": {
        "id": "eBcVc8Nd0BGv",
        "colab_type": "code",
        "outputId": "c4cbaedf-f9cb-4477-bdad-04d6f41be6f5",
        "colab": {
          "base_uri": "https://localhost:8080/",
          "height": 119
        }
      },
      "source": [
        "nltk.download('wordnet') # used for stemming pupose inside WordNetLemmatizer\n",
        "nltk.download('averaged_perceptron_tagger') # User for tagging pupose inside pos_tag\n",
        "train_reviews_normalized = [lemmatizeReview(review) for review in cleaned_train_reviews]\n",
        "test_reviews_normalized = [lemmatizeReview(review) for review in cleaned_test_reviews]"
      ],
      "execution_count": 30,
      "outputs": [
        {
          "output_type": "stream",
          "text": [
            "[nltk_data] Downloading package wordnet to /root/nltk_data...\n",
            "[nltk_data]   Package wordnet is already up-to-date!\n",
            "[nltk_data] Downloading package averaged_perceptron_tagger to\n",
            "[nltk_data]     /root/nltk_data...\n",
            "[nltk_data]   Package averaged_perceptron_tagger is already up-to-\n",
            "[nltk_data]       date!\n"
          ],
          "name": "stdout"
        }
      ]
    },
    {
      "cell_type": "markdown",
      "metadata": {
        "id": "LVWvjLvttrpe",
        "colab_type": "text"
      },
      "source": [
        "## Let's have a look at the word count\n",
        "Instead of simply noting whether a word appears in the review or not, we can include the number of times a given word appears. This can give our sentiment classifier a lot more predictive power. For example, if a movie reviewer says ‘amazing’ or ‘terrible’ multiple times in a review it is considerably more probable that the review is positive or negative, respectively."
      ]
    },
    {
      "cell_type": "code",
      "metadata": {
        "id": "qN8nxMnRvQ7p",
        "colab_type": "code",
        "colab": {}
      },
      "source": [
        "# get a single list of tokens - all tokens in a single list\n",
        "def get_all_words(tokens):\n",
        "  all_tokens = []\n",
        "  for token_list in tokens:\n",
        "    for token in token_list:\n",
        "      all_tokens.append(token)\n",
        "  return all_tokens"
      ],
      "execution_count": 0,
      "outputs": []
    },
    {
      "cell_type": "code",
      "metadata": {
        "id": "3ZHtDqL6u1Qy",
        "colab_type": "code",
        "colab": {}
      },
      "source": [
        "all_train_tokens_list = get_all_words(train_reviews_normalized)\n",
        "all_test_tokens_list = get_all_words(test_reviews_normalized)\n",
        "train_token_frequency = FreqDist(all_train_tokens_list)\n",
        "test_token_frequency = FreqDist(all_test_tokens_list)"
      ],
      "execution_count": 0,
      "outputs": []
    },
    {
      "cell_type": "code",
      "metadata": {
        "id": "LIV-3fPLyL-A",
        "colab_type": "code",
        "colab": {
          "base_uri": "https://localhost:8080/",
          "height": 71
        },
        "outputId": "a8901eeb-0e09-4ec9-8dad-29702a493138"
      },
      "source": [
        "print(train_token_frequency.most_common(10))\n",
        "print(test_token_frequency.most_common(10))"
      ],
      "execution_count": 33,
      "outputs": [
        {
          "output_type": "stream",
          "text": [
            "[('movie', 51266), ('film', 47645), ('one', 27586), ('make', 23227), ('like', 21889), ('see', 20671), ('good', 20406), ('get', 17935), ('time', 15916), ('character', 14098)]\n",
            "[('movie', 51102), ('film', 47041), ('one', 27533), ('make', 22239), ('like', 21509), ('see', 20701), ('good', 19855), ('get', 17366), ('time', 15470), ('character', 14092)]\n"
          ],
          "name": "stdout"
        }
      ]
    },
    {
      "cell_type": "markdown",
      "metadata": {
        "id": "o2tXyogUGgnr",
        "colab_type": "text"
      },
      "source": [
        "Most common words are same in both training and testing set"
      ]
    },
    {
      "cell_type": "markdown",
      "metadata": {
        "id": "wMm0zNnc8iSh",
        "colab_type": "text"
      },
      "source": [
        "# Building the classification model"
      ]
    },
    {
      "cell_type": "markdown",
      "metadata": {
        "id": "71zOxn89BWIN",
        "colab_type": "text"
      },
      "source": [
        "## Preparing the data for training and testing"
      ]
    },
    {
      "cell_type": "code",
      "metadata": {
        "id": "yMvJCaGuJ6GO",
        "colab_type": "code",
        "colab": {}
      },
      "source": [
        "def get_train_reviews_tokes(review_normalized):\n",
        "    for token_list in review_normalized:\n",
        "        yield dict([token, True] for token in token_list)"
      ],
      "execution_count": 0,
      "outputs": []
    },
    {
      "cell_type": "code",
      "metadata": {
        "id": "U3tD9jDAJ5-V",
        "colab_type": "code",
        "colab": {}
      },
      "source": [
        "train_reviews_for_model = get_train_reviews_tokes(train_reviews_normalized)\n",
        "test_reviews_for_model = get_train_reviews_tokes(test_reviews_normalized)"
      ],
      "execution_count": 0,
      "outputs": []
    },
    {
      "cell_type": "code",
      "metadata": {
        "id": "7-sidp5L3NRL",
        "colab_type": "code",
        "colab": {}
      },
      "source": [
        "COUNT = 1\n",
        "train_dataset = []\n",
        "for review_dict in train_reviews_for_model:\n",
        "  if COUNT <= 12500:\n",
        "    train_dataset.append((review_dict, 1))\n",
        "  else:\n",
        "    train_dataset.append((review_dict, 0))\n",
        "  COUNT += 1"
      ],
      "execution_count": 0,
      "outputs": []
    },
    {
      "cell_type": "code",
      "metadata": {
        "id": "6E5nMla4C0hE",
        "colab_type": "code",
        "colab": {}
      },
      "source": [
        "COUNT = 1\n",
        "test_dataset = []\n",
        "for review_dict in test_reviews_for_model:\n",
        "  if COUNT <= 12500:\n",
        "    test_dataset.append((review_dict, 1))\n",
        "  else:\n",
        "    test_dataset.append((review_dict, 0))\n",
        "  COUNT += 1"
      ],
      "execution_count": 0,
      "outputs": []
    },
    {
      "cell_type": "code",
      "metadata": {
        "id": "V0F-T7014-Kj",
        "colab_type": "code",
        "colab": {}
      },
      "source": [
        "import random\n",
        "random.shuffle(train_dataset)"
      ],
      "execution_count": 0,
      "outputs": []
    },
    {
      "cell_type": "code",
      "metadata": {
        "id": "ETSyw0OJ6kwG",
        "colab_type": "code",
        "colab": {
          "base_uri": "https://localhost:8080/",
          "height": 1000
        },
        "outputId": "da87e97d-ee1c-4ccf-aa4c-ef08aa2c3294"
      },
      "source": [
        "train_dataset[24500]"
      ],
      "execution_count": 73,
      "outputs": [
        {
          "output_type": "execute_result",
          "data": {
            "text/plain": [
              "({'&': True,\n",
              "  'abc': True,\n",
              "  'advertiser': True,\n",
              "  'age': True,\n",
              "  'agree': True,\n",
              "  'aim': True,\n",
              "  'alternate': True,\n",
              "  'amateur': True,\n",
              "  'anything': True,\n",
              "  'ben': True,\n",
              "  'big': True,\n",
              "  'blatant': True,\n",
              "  'budget': True,\n",
              "  'cake': True,\n",
              "  'come': True,\n",
              "  'completely': True,\n",
              "  'conflict': True,\n",
              "  'confusing': True,\n",
              "  'consequence': True,\n",
              "  'critic': True,\n",
              "  'diet': True,\n",
              "  'disney': True,\n",
              "  'ebert': True,\n",
              "  'encounter': True,\n",
              "  'entire': True,\n",
              "  'everyone': True,\n",
              "  'feel': True,\n",
              "  'film': True,\n",
              "  'find': True,\n",
              "  'formula': True,\n",
              "  'generate': True,\n",
              "  'genuine': True,\n",
              "  'get': True,\n",
              "  'good': True,\n",
              "  'group': True,\n",
              "  'guy': True,\n",
              "  'hit': True,\n",
              "  'host': True,\n",
              "  'ice': True,\n",
              "  'idea': True,\n",
              "  'im': True,\n",
              "  'independent': True,\n",
              "  'indie': True,\n",
              "  'intelligent': True,\n",
              "  'interest': True,\n",
              "  'kid': True,\n",
              "  'know': True,\n",
              "  'life': True,\n",
              "  'like': True,\n",
              "  'lose': True,\n",
              "  'love': True,\n",
              "  'ludicrous': True,\n",
              "  'lyon': True,\n",
              "  'mainstream': True,\n",
              "  'make': True,\n",
              "  'manage': True,\n",
              "  'manckiewitz': True,\n",
              "  'miss': True,\n",
              "  'motion': True,\n",
              "  'movie': True,\n",
              "  'much': True,\n",
              "  'nepotism': True,\n",
              "  'news': True,\n",
              "  'non': True,\n",
              "  'notch': True,\n",
              "  'obvious': True,\n",
              "  'opinion': True,\n",
              "  'opinionated': True,\n",
              "  'original': True,\n",
              "  'own': True,\n",
              "  'picture': True,\n",
              "  'plus': True,\n",
              "  'production': True,\n",
              "  'professional': True,\n",
              "  'promote': True,\n",
              "  'qualify': True,\n",
              "  'rank': True,\n",
              "  'really': True,\n",
              "  'review': True,\n",
              "  'roeper': True,\n",
              "  'roper': True,\n",
              "  'say': True,\n",
              "  'schlock': True,\n",
              "  'separate': True,\n",
              "  'show': True,\n",
              "  'siskel': True,\n",
              "  'snide': True,\n",
              "  'something': True,\n",
              "  'steady': True,\n",
              "  'studio': True,\n",
              "  'substitute': True,\n",
              "  'surprise': True,\n",
              "  'take': True,\n",
              "  'teen': True,\n",
              "  'terrific': True,\n",
              "  'theyve': True,\n",
              "  'think': True,\n",
              "  'tolerate': True,\n",
              "  'tv': True,\n",
              "  'two': True,\n",
              "  'universe': True,\n",
              "  'wait': True,\n",
              "  'wasnt': True,\n",
              "  'watch': True,\n",
              "  'whether': True},\n",
              " 0)"
            ]
          },
          "metadata": {
            "tags": []
          },
          "execution_count": 73
        }
      ]
    },
    {
      "cell_type": "code",
      "metadata": {
        "id": "NTFnsI4QFVES",
        "colab_type": "code",
        "colab": {}
      },
      "source": [
        "occurence = []\n",
        "for i in range(1000):\n",
        "  for tup in train_dataset:\n",
        "    if tup[1] == 0:\n",
        "      occurence.append(i)\n",
        "      break"
      ],
      "execution_count": 0,
      "outputs": []
    },
    {
      "cell_type": "code",
      "metadata": {
        "id": "LVRoHSHcGi1Q",
        "colab_type": "code",
        "colab": {
          "base_uri": "https://localhost:8080/",
          "height": 34
        },
        "outputId": "a2652edf-882d-436a-ab4f-b2dc25af50ed"
      },
      "source": [
        "len(occurence)"
      ],
      "execution_count": 71,
      "outputs": [
        {
          "output_type": "execute_result",
          "data": {
            "text/plain": [
              "100"
            ]
          },
          "metadata": {
            "tags": []
          },
          "execution_count": 71
        }
      ]
    },
    {
      "cell_type": "code",
      "metadata": {
        "id": "WRLWHHVTGsve",
        "colab_type": "code",
        "colab": {}
      },
      "source": [
        ""
      ],
      "execution_count": 0,
      "outputs": []
    }
  ]
}